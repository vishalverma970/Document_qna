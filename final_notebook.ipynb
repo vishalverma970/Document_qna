{
 "cells": [
  {
   "cell_type": "code",
   "execution_count": 1,
   "id": "363e0c13",
   "metadata": {},
   "outputs": [],
   "source": [
    "import os"
   ]
  },
  {
   "cell_type": "code",
   "execution_count": 2,
   "id": "623c99d4",
   "metadata": {},
   "outputs": [],
   "source": [
    "from dotenv import load_dotenv, find_dotenv\n",
    "_ = load_dotenv(\".env\")"
   ]
  },
  {
   "cell_type": "code",
   "execution_count": 3,
   "id": "79497554",
   "metadata": {},
   "outputs": [],
   "source": [
    "document_path = \"/Users/vishalverma/Vishal/Learning - Fractal/GenAi/docs/Doc A - MDL-785_0.pdf\""
   ]
  },
  {
   "cell_type": "code",
   "execution_count": 4,
   "id": "6815107e",
   "metadata": {},
   "outputs": [],
   "source": [
    "from langchain.document_loaders import PyMuPDFLoader\n",
    "from langchain.text_splitter import CharacterTextSplitter\n",
    "from sentence_transformers import SentenceTransformer\n",
    "import numpy as np\n",
    "from numpy.linalg import norm"
   ]
  },
  {
   "cell_type": "code",
   "execution_count": 5,
   "id": "07723251",
   "metadata": {},
   "outputs": [],
   "source": [
    "def cosine_similarity(vec1,vec2):\n",
    "    return np.dot(vec1,vec2)/(norm(vec1)*norm(vec2))"
   ]
  },
  {
   "cell_type": "code",
   "execution_count": 6,
   "id": "6ff21574",
   "metadata": {},
   "outputs": [],
   "source": [
    "sbert_model = SentenceTransformer('bert-base-nli-mean-tokens')"
   ]
  },
  {
   "cell_type": "code",
   "execution_count": 7,
   "id": "1ca080e4",
   "metadata": {},
   "outputs": [],
   "source": [
    "## load document\n",
    "loader1 = PyMuPDFLoader(document_path)\n",
    "documents = loader1.load()"
   ]
  },
  {
   "cell_type": "code",
   "execution_count": 8,
   "id": "4b49e74c",
   "metadata": {},
   "outputs": [],
   "source": [
    "text_splitter = CharacterTextSplitter(chunk_size = 700,chunk_overlap = 50)\n",
    "docs = text_splitter.split_documents(documents)"
   ]
  },
  {
   "cell_type": "code",
   "execution_count": 9,
   "id": "4738f8f8",
   "metadata": {},
   "outputs": [],
   "source": [
    "test_case = {'question' : \"What is the purpose of the act?\",\n",
    "            \"answer\" : \"the purpose of the act is to establish regulations and guidelines for credit for reinsurance, including requirements for collateralization of unauthorized reinsurance recoverable and the establishment of trust funds as security for insureds, claimants, ceding insurers, assuming insurers, and the public. It also includes provisions for the control and distribution of funds by U.S. regulators and applies to all cessions under reinsurance agreements with an inception, anniversary, or renewal date not less than six months after the effective date of the act.\"}"
   ]
  },
  {
   "cell_type": "markdown",
   "id": "4733c3da",
   "metadata": {},
   "source": [
    "# Model - 1"
   ]
  },
  {
   "cell_type": "markdown",
   "id": "af81833f",
   "metadata": {},
   "source": [
    "Model Info: \n",
    "<br>\n",
    "Embedding : HuggingFaceEmbeddings\n",
    "<br>\n",
    "API : T5 model"
   ]
  },
  {
   "cell_type": "code",
   "execution_count": 10,
   "id": "a84d39ec",
   "metadata": {},
   "outputs": [],
   "source": [
    "from langchain.embeddings import HuggingFaceEmbeddings \n",
    "from langchain.vectorstores import FAISS\n",
    "from langchain.chains.question_answering import load_qa_chain\n",
    "from langchain import HuggingFaceHub\n",
    "from langchain.indexes import VectorstoreIndexCreator\n",
    "from langchain.chains import RetrievalQA"
   ]
  },
  {
   "cell_type": "code",
   "execution_count": 11,
   "id": "28e036e7",
   "metadata": {},
   "outputs": [],
   "source": [
    "## load huggingface embedding\n",
    "embeddings = HuggingFaceEmbeddings()"
   ]
  },
  {
   "cell_type": "code",
   "execution_count": 12,
   "id": "9461f46f",
   "metadata": {},
   "outputs": [],
   "source": [
    "## fiass to create embedding db\n",
    "db = FAISS.from_documents(docs, embeddings)"
   ]
  },
  {
   "cell_type": "code",
   "execution_count": 13,
   "id": "25e5348d",
   "metadata": {},
   "outputs": [],
   "source": [
    "## importing T5 llm model\n",
    "llm=HuggingFaceHub(repo_id=\"declare-lab/flan-alpaca-large\", model_kwargs={\"temperature\":0, \"max_length\":512})\n",
    "chain = load_qa_chain(llm, chain_type=\"stuff\")"
   ]
  },
  {
   "cell_type": "code",
   "execution_count": 14,
   "id": "277967c2",
   "metadata": {},
   "outputs": [
    {
     "name": "stdout",
     "output_type": "stream",
     "text": [
      "The purpose of the act is to provide credit for incorporated underwriters.\n"
     ]
    }
   ],
   "source": [
    "query =  \"What is the purpose of the act?\"\n",
    "#prompt = f\"Answer it in atleast 70 words : ```{query}```\"\n",
    "prompt = query\n",
    "similar_document = db.similarity_search(query)\n",
    "model_1_ans = chain.run(input_documents=similar_document, question=prompt)\n",
    "print(model_1_ans)"
   ]
  },
  {
   "cell_type": "code",
   "execution_count": 15,
   "id": "0c817b55",
   "metadata": {},
   "outputs": [
    {
     "name": "stdout",
     "output_type": "stream",
     "text": [
      "similarity : 0.6067509055137634\n"
     ]
    }
   ],
   "source": [
    "expected_ans_vector = sbert_model.encode(test_case['answer'])\n",
    "predicted_ans_m1 = sbert_model.encode(model_1_ans)\n",
    "m1_similarity = cosine_similarity(predicted_ans_m1,expected_ans_vector)\n",
    "print(f\"similarity : {m1_similarity}\")"
   ]
  },
  {
   "cell_type": "markdown",
   "id": "550c8465",
   "metadata": {},
   "source": [
    "# Model - 2"
   ]
  },
  {
   "cell_type": "markdown",
   "id": "229e9e13",
   "metadata": {},
   "source": [
    "Model Info: \n",
    "<br>\n",
    "Embedding : OpenAIEmbedding\n",
    "<br>\n",
    "API : T5 model"
   ]
  },
  {
   "cell_type": "code",
   "execution_count": 16,
   "id": "75a902f2",
   "metadata": {},
   "outputs": [],
   "source": [
    "from langchain.embeddings import OpenAIEmbeddings\n",
    "embeddings = OpenAIEmbeddings()"
   ]
  },
  {
   "cell_type": "code",
   "execution_count": 17,
   "id": "e52939b4",
   "metadata": {},
   "outputs": [],
   "source": [
    "## fiass to create embedding db\n",
    "db = FAISS.from_documents(docs, embeddings)"
   ]
  },
  {
   "cell_type": "code",
   "execution_count": 18,
   "id": "36eb6a26",
   "metadata": {},
   "outputs": [],
   "source": [
    "## importing T5 llm model\n",
    "llm=HuggingFaceHub(repo_id=\"declare-lab/flan-alpaca-large\", model_kwargs={\"temperature\":0, \"max_length\":512})\n",
    "chain = load_qa_chain(llm, chain_type=\"stuff\")"
   ]
  },
  {
   "cell_type": "code",
   "execution_count": 19,
   "id": "1d6493b8",
   "metadata": {},
   "outputs": [
    {
     "name": "stdout",
     "output_type": "stream",
     "text": [
      "The purpose of this Act is to protect the interest of insureds, claimants, ceding insurers, assuming insurers and the public generally.\n"
     ]
    }
   ],
   "source": [
    "query =  \"What is the purpose of the act?\"\n",
    "# prompt = f\"Answer it in atleast 100 words and summarize it : ```{query}```\"\n",
    "prompt = query\n",
    "similar_document = db.similarity_search(query)\n",
    "model_2_ans = chain.run(input_documents=similar_document, question=prompt)\n",
    "print(model_2_ans)"
   ]
  },
  {
   "cell_type": "code",
   "execution_count": 20,
   "id": "6dc54d91",
   "metadata": {},
   "outputs": [
    {
     "name": "stdout",
     "output_type": "stream",
     "text": [
      "similarity : 0.672654390335083\n"
     ]
    }
   ],
   "source": [
    "expected_ans_vector = sbert_model.encode(test_case['answer'])\n",
    "predicted_ans_m2 = sbert_model.encode(model_2_ans)\n",
    "m2_similarity = cosine_similarity(predicted_ans_m2,expected_ans_vector)\n",
    "print(f\"similarity : {m2_similarity}\")"
   ]
  },
  {
   "cell_type": "markdown",
   "id": "a2853448",
   "metadata": {},
   "source": [
    "# Model - 3"
   ]
  },
  {
   "cell_type": "markdown",
   "id": "0d15697f",
   "metadata": {},
   "source": [
    "Model Info: \n",
    "<br>\n",
    "Embedding : OpenAIEmbedding\n",
    "<br>\n",
    "API : OpenAI\n",
    "<br>\n",
    "document searching method : Retrieval"
   ]
  },
  {
   "cell_type": "code",
   "execution_count": 21,
   "id": "0d1785ab",
   "metadata": {},
   "outputs": [],
   "source": [
    "from langchain.chains import RetrievalQA \n",
    "from langchain.indexes import VectorstoreIndexCreator \n",
    "from langchain.vectorstores import Chroma\n",
    "from langchain.chat_models import ChatOpenAI"
   ]
  },
  {
   "cell_type": "code",
   "execution_count": 22,
   "id": "df1afebc",
   "metadata": {},
   "outputs": [],
   "source": [
    "embeddings = OpenAIEmbeddings()"
   ]
  },
  {
   "cell_type": "code",
   "execution_count": 23,
   "id": "8a7eeb23",
   "metadata": {},
   "outputs": [],
   "source": [
    "db = Chroma.from_documents(docs,embeddings)"
   ]
  },
  {
   "cell_type": "code",
   "execution_count": 24,
   "id": "d5c36b76",
   "metadata": {},
   "outputs": [],
   "source": [
    "# expose this index in a retriever interface\n",
    "retriever = db.as_retriever(search_type=\"similarity\")"
   ]
  },
  {
   "cell_type": "code",
   "execution_count": 25,
   "id": "3e785f4f",
   "metadata": {},
   "outputs": [],
   "source": [
    "llm = ChatOpenAI(temperature=0)"
   ]
  },
  {
   "cell_type": "code",
   "execution_count": 26,
   "id": "55db7332",
   "metadata": {
    "scrolled": true
   },
   "outputs": [
    {
     "name": "stdout",
     "output_type": "stream",
     "text": [
      "\n",
      "\n",
      "\u001b[1m> Entering new RetrievalQA chain...\u001b[0m\n",
      "\n",
      "\u001b[1m> Finished chain.\u001b[0m\n",
      "The purpose of the Credit for Reinsurance Model Law is to protect the interest of insureds, claimants, ceding insurers, assuming insurers, and the public generally. The legislature declares its intent to ensure adequate regulation of insurers and reinsurers and adequate protection for those to whom they owe obligations. The matters contained in this Act are fundamental to the business of insurance.\n"
     ]
    }
   ],
   "source": [
    "# create a chain to answer questions\n",
    "qa = RetrievalQA.from_chain_type(llm=llm, chain_type=\"stuff\", \n",
    "                                 retriever=retriever, \n",
    "                                 verbose=True)\n",
    "\n",
    "query =  \"What is the purpose of the act?\"\n",
    "# prompt = f\"Answer it in atleast 70 words: ```{query}```\"\n",
    "prompt = query\n",
    "model_3_ans = qa.run(prompt)\n",
    "print(model_3_ans)"
   ]
  },
  {
   "cell_type": "code",
   "execution_count": 27,
   "id": "18bec208",
   "metadata": {},
   "outputs": [
    {
     "name": "stdout",
     "output_type": "stream",
     "text": [
      "similarity : 0.7591108083724976\n"
     ]
    }
   ],
   "source": [
    "expected_ans_vector = sbert_model.encode(test_case['answer'])\n",
    "predicted_ans_m3 = sbert_model.encode(model_3_ans)\n",
    "m3_similarity = cosine_similarity(predicted_ans_m3,expected_ans_vector)\n",
    "print(f\"similarity : {m3_similarity}\")"
   ]
  },
  {
   "cell_type": "markdown",
   "id": "5dec913f",
   "metadata": {},
   "source": [
    "# Model - 4"
   ]
  },
  {
   "cell_type": "code",
   "execution_count": 28,
   "id": "e2fb853c",
   "metadata": {},
   "outputs": [],
   "source": [
    "from langchain.vectorstores import DocArrayInMemorySearch"
   ]
  },
  {
   "cell_type": "markdown",
   "id": "5e4ef84e",
   "metadata": {},
   "source": [
    "Model Info: \n",
    "<br>\n",
    "Embedding : OpenAIEmbedding\n",
    "<br>\n",
    "API : OpenAI\n",
    "<br>\n",
    "document searching method : vectorstoreindexcreator"
   ]
  },
  {
   "cell_type": "code",
   "execution_count": 29,
   "id": "13cb555c",
   "metadata": {},
   "outputs": [],
   "source": [
    "from langchain.vectorstores import DocArrayInMemorySearch"
   ]
  },
  {
   "cell_type": "code",
   "execution_count": 30,
   "id": "7504a598",
   "metadata": {},
   "outputs": [],
   "source": [
    "index = VectorstoreIndexCreator(\n",
    "    vectorstore_cls=DocArrayInMemorySearch,\n",
    "    embedding=embeddings).from_loaders([loader1])"
   ]
  },
  {
   "cell_type": "code",
   "execution_count": 31,
   "id": "be4b8ad7",
   "metadata": {},
   "outputs": [],
   "source": [
    "llm = ChatOpenAI(temperature=0)"
   ]
  },
  {
   "cell_type": "code",
   "execution_count": 32,
   "id": "687d7e0b",
   "metadata": {},
   "outputs": [],
   "source": [
    "query =  \"What is the purpose of the act?\"\n",
    "# prompt = f\"Answer it in atleast 70 words: ```{query}```\"\n",
    "prompt = query\n",
    "model_4_ans = index.query(prompt, llm=llm)"
   ]
  },
  {
   "cell_type": "code",
   "execution_count": 33,
   "id": "975bd879",
   "metadata": {},
   "outputs": [
    {
     "name": "stdout",
     "output_type": "stream",
     "text": [
      "The purpose of the act is to protect the interest of insureds, claimants, ceding insurers, assuming insurers and the public generally, and to ensure adequate regulation of insurers and reinsurers and adequate protection for those to whom they owe obligations.\n"
     ]
    }
   ],
   "source": [
    "print(model_4_ans)"
   ]
  },
  {
   "cell_type": "code",
   "execution_count": 34,
   "id": "b28eed61",
   "metadata": {},
   "outputs": [
    {
     "name": "stdout",
     "output_type": "stream",
     "text": [
      "similarity : 0.7095122337341309\n"
     ]
    }
   ],
   "source": [
    "expected_ans_vector = sbert_model.encode(test_case['answer'])\n",
    "predicted_ans_m4 = sbert_model.encode(model_4_ans)\n",
    "m4_similarity = cosine_similarity(predicted_ans_m4,expected_ans_vector)\n",
    "print(f\"similarity : {m4_similarity}\")"
   ]
  },
  {
   "cell_type": "markdown",
   "id": "ad95c045",
   "metadata": {},
   "source": [
    "# Model - 5"
   ]
  },
  {
   "cell_type": "code",
   "execution_count": 35,
   "id": "2fa8c353",
   "metadata": {},
   "outputs": [],
   "source": [
    "from langchain.vectorstores import Chroma\n",
    "from langchain.chains.question_answering import load_qa_chain\n",
    "from langchain.llms import OpenAI"
   ]
  },
  {
   "cell_type": "code",
   "execution_count": 36,
   "id": "2d0ce19b",
   "metadata": {},
   "outputs": [],
   "source": [
    "embeddings = OpenAIEmbeddings()\n",
    "db = Chroma.from_documents(docs,embeddings)"
   ]
  },
  {
   "cell_type": "code",
   "execution_count": 37,
   "id": "2d7f539f",
   "metadata": {},
   "outputs": [
    {
     "name": "stderr",
     "output_type": "stream",
     "text": [
      "/Users/vishalverma/tensorflow/env/lib/python3.8/site-packages/langchain/llms/openai.py:171: UserWarning: You are trying to use a chat model. This way of initializing it is no longer supported. Instead, please use: `from langchain.chat_models import ChatOpenAI`\n",
      "  warnings.warn(\n",
      "/Users/vishalverma/tensorflow/env/lib/python3.8/site-packages/langchain/llms/openai.py:716: UserWarning: You are trying to use a chat model. This way of initializing it is no longer supported. Instead, please use: `from langchain.chat_models import ChatOpenAI`\n",
      "  warnings.warn(\n"
     ]
    }
   ],
   "source": [
    "model_name = \"gpt-3.5-turbo\"\n",
    "llm = OpenAI(model_name=model_name,temperature = 0)\n",
    "\n",
    "chain = load_qa_chain(llm, chain_type=\"stuff\")"
   ]
  },
  {
   "cell_type": "code",
   "execution_count": 38,
   "id": "0b72f750",
   "metadata": {},
   "outputs": [
    {
     "data": {
      "text/plain": [
       "'The purpose of the act is to protect the interest of insureds, claimants, ceding insurers, assuming insurers, and the public generally, and to ensure adequate regulation of insurers and reinsurers and adequate protection for those to whom they owe obligations. It also mandates that upon the insolvency of a non-U.S. insurer or reinsurer that provides security to fund its U.S. obligations in accordance with this Act, the assets representing the security shall be maintained in the United States and claims shall be filed with and valued by the state insurance commissioner with regulatory oversight, and the assets shall be distributed, in accordance with the insurance laws of the state in which the trust is domiciled that are applicable to the liquidation of domestic U.S. insurance companies.'"
      ]
     },
     "execution_count": 38,
     "metadata": {},
     "output_type": "execute_result"
    }
   ],
   "source": [
    "query = \"What is the purpose of the act?\"\n",
    "answer = chain.run(input_documents=db.similarity_search(query), question=query)\n",
    "answer"
   ]
  },
  {
   "cell_type": "code",
   "execution_count": 39,
   "id": "37d82f99",
   "metadata": {},
   "outputs": [
    {
     "name": "stdout",
     "output_type": "stream",
     "text": [
      "similarity : 0.807817280292511\n"
     ]
    }
   ],
   "source": [
    "expected_ans_vector = sbert_model.encode(test_case['answer'])\n",
    "predicted_ans_m4 = sbert_model.encode(answer)\n",
    "m5_similarity = cosine_similarity(predicted_ans_m4,expected_ans_vector)\n",
    "print(f\"similarity : {m5_similarity}\")"
   ]
  },
  {
   "cell_type": "code",
   "execution_count": null,
   "id": "297a0994",
   "metadata": {},
   "outputs": [],
   "source": []
  }
 ],
 "metadata": {
  "kernelspec": {
   "display_name": "Python 3 (ipykernel)",
   "language": "python",
   "name": "python3"
  },
  "language_info": {
   "codemirror_mode": {
    "name": "ipython",
    "version": 3
   },
   "file_extension": ".py",
   "mimetype": "text/x-python",
   "name": "python",
   "nbconvert_exporter": "python",
   "pygments_lexer": "ipython3",
   "version": "3.8.13"
  }
 },
 "nbformat": 4,
 "nbformat_minor": 5
}
